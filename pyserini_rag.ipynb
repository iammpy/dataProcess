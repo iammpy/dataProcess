{
 "cells": [
  {
   "cell_type": "code",
   "execution_count": 6,
   "id": "b5c83395",
   "metadata": {},
   "outputs": [],
   "source": [
    "import time\n",
    "import json # 导入 json 模块\n",
    "from pyserini.search.lucene import LuceneSearcher\n",
    "try:\n",
    "    searcher = LuceneSearcher.from_prebuilt_index('wikipedia-dpr')\n",
    "except Exception as e:\n",
    "    print(f\"初始化失败: {e}\")\n",
    "    # 增加一个清理缓存的提示，以防下载的索引损坏\n",
    "    print(\"如果下载或解压出错，可以尝试删除缓存后重试： rm -rf ~/.pyserini/indexes/\")\n",
    "    exit()\n",
    "def get_rag_input(query):\n",
    "\n",
    "\n",
    "\n",
    "\n",
    "    # query = \"What is the capital of France?\"\n",
    "\n",
    "    # ================= 3. 执行检索 =================\n",
    "    # print(f\"\\n正在为查询 '{query}' 进行检索...\")\n",
    "    start_time = time.time()\n",
    "    hits = searcher.search(query, k=5)\n",
    "    end_time = time.time()\n",
    "    # print(f\"检索完成，耗时 {end_time - start_time:.4f} 秒。\")\n",
    "\n",
    "    # ================= 4. 处理并展示检索结果 (修正后的逻辑) =================\n",
    "    # print(f\"\\n检索到的前 {len(hits)} 个最相关的段落：\")\n",
    "    retrieved_passages = []\n",
    "    for i, hit in enumerate(hits):\n",
    "        # --- 这是关键的修改 ---\n",
    "        # 旧方法：raw_doc = searcher.doc(hit.docid) # 不再使用\n",
    "        # 旧方法：passage_text = raw_doc.contents() if raw_doc else None # 不再使用\n",
    "\n",
    "        # 新方法：直接从 hit 对象中解析原始 JSON 数据\n",
    "        # hit.raw 返回的是一个 JSON 字符串，例如 '{\"contents\": \"...\"}'\n",
    "        raw_json_string = hit.raw\n",
    "        passage_text = None  # 默认为 None\n",
    "\n",
    "        if raw_json_string:\n",
    "            try:\n",
    "                # 解析 JSON 字符串\n",
    "                doc_data = json.loads(raw_json_string)\n",
    "                # 提取 'contents' 字段\n",
    "                passage_text = doc_data.get('contents')\n",
    "            except json.JSONDecodeError:\n",
    "                print(f\"警告：无法解析文档ID {hit.docid} 的JSON数据。\")\n",
    "\n",
    "        # print(f\"\\n--- [结果 {i+1}] ---\")\n",
    "        # print(f\"文档 ID: {hit.docid}\")\n",
    "        # print(f\"BM25 得分: {hit.score:.5f}\")\n",
    "        # print(f\"段落内容:\\n{passage_text}\")\n",
    "        \n",
    "        # 将有效的内容添加到列表中，以便后续使用\n",
    "        if passage_text:\n",
    "            retrieved_passages.append(passage_text)\n",
    "\n",
    "    # ================= 5. RAG 的下一步 (修正后的逻辑) =================\n",
    "    # 使用我们安全收集到的段落构建上下文\n",
    "    retrieved_context = \"\\n\\n\".join(retrieved_passages)\n",
    "\n",
    "    return retrieved_context\n"
   ]
  },
  {
   "cell_type": "code",
   "execution_count": 7,
   "id": "87d78aad",
   "metadata": {},
   "outputs": [
    {
     "name": "stdout",
     "output_type": "stream",
     "text": [
      "\"Exact cover\"\n",
      "the pentomino. Using the matrix, a computer can find all solutions relatively quickly, for example, using Dancing Links. \"\"Main articles: Sudoku, Sudoku solving algorithms\"\" The problem in Sudoku is to assign numbers (or digits, values, symbols) to cells (or squares) in a grid so as to satisfy certain constraints. In the standard 9×9 Sudoku variant, there are four kinds of constraints: While the first constraint might seem trivial, it is nevertheless needed to ensure there is only one number per cell. Intuitively, placing a number into a cell prohibits placing that number in any other cell sharing the same column,\n",
      "\n",
      "\"Single-cell variability\"\n",
      "or in infectious disease, where only a subset of cells in a population become infected by a pathogen. Population-level views of cells can offer a distorted view of the data by averaging out the properties of distinct subsets of cells. For example, if half the cells of a particular group are expressing high levels of a given gene, and the rest are expressing low levels, results from a population-wide analysis may appear as if all cells are expressing a medium level of the given gene. Thus, single-cell analysis allows researchers to study biological processes in finer detail and answer questions\n",
      "\n",
      "\"Chimera (genetics)\"\n",
      "2003, researchers at the Shanghai Second Medical University in China reported that they had successfully fused human skin cells and rabbit ova to create the first human chimeric embryos. The embryos were allowed to develop for several days in a laboratory setting, then destroyed to harvest the resulting stem cells. In 2007, scientists at the University of Nevada School of Medicine created a sheep whose blood contained 15% human cells and 85% sheep cells. Chimeric mice are important animals in biological research, as they allow the investigation of a variety of biological questions in an animal that has two distinct\n",
      "\n",
      "\"Transgenerational epigenetic inheritance\"\n",
      "and genetics. In so doing, he coined the word \"\"epigenetic\"\" to represent the ordered differentiation of embryonic cells into functionally distinct cell types despite having identical primary structure of their DNA. Waddington’s epigenetics was sporadically discussed, becoming more of a catch-all for puzzling non-genetic heritable characters rather than advancing the body of inquiry. Consequently, the definition of Waddington’s word has itself evolved, broadening beyond the subset of developmentally signaled, inherited cell specialization. Some scientists have questioned if epigenetic inheritance compromises the foundation of the modern synthesis. Outlining the central dogma of molecular biology, Francis Crick succinctly stated, \"\"DNA is held\n",
      "\n",
      "\"Hierarchical task network\"\n",
      "other tasks via the task network outlined below. Constraints among tasks are expressed in the form of networks, called (hierarchical) task networks. A task network is a set of tasks and constraints among them. Such a network can be used as the precondition for another compound or goal task to be feasible. This way, one can express that a given task is feasible only if a set of other actions (those mentioned in the network) are done, and they are done in such a way that the constraints among them (specified by the network) are satisfied. One particular formalism for\n"
     ]
    }
   ],
   "source": [
    "problem=\"\"\"\n",
    " \"question\": \"You are an expert cell scientist. Given predefined biological conditions or constraints, your task is to create the cell sentence that satisfies the constraints. Do not output any other characters.\\n\\nQuestion: Outline 100 genes initially associated with a cell:\",\n",
    "       \n",
    "\"\"\"\n",
    "res=get_rag_input(problem)\n",
    "print(res)\n"
   ]
  }
 ],
 "metadata": {
  "kernelspec": {
   "display_name": "pyserini_env",
   "language": "python",
   "name": "python3"
  },
  "language_info": {
   "codemirror_mode": {
    "name": "ipython",
    "version": 3
   },
   "file_extension": ".py",
   "mimetype": "text/x-python",
   "name": "python",
   "nbconvert_exporter": "python",
   "pygments_lexer": "ipython3",
   "version": "3.9.23"
  }
 },
 "nbformat": 4,
 "nbformat_minor": 5
}
