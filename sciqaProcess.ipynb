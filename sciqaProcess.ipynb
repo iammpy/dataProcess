{
 "cells": [
  {
   "cell_type": "markdown",
   "id": "a3e9b805",
   "metadata": {},
   "source": [
    "### 初始化全局变量，导入包"
   ]
  },
  {
   "cell_type": "code",
   "execution_count": 9,
   "id": "610ff416",
   "metadata": {},
   "outputs": [],
   "source": [
    "import os\n",
    "import sys\n",
    "from model import call_huoshan,call_openai\n",
    "import pandas as pd\n",
    "if \"__file__\" in globals():\n",
    "    os.chdir(os.path.dirname(os.path.abspath(__file__)))\n",
    "\n",
    "raw_data_path= os.path.join(\"raw_data\")\n",
    "scienceQA_path = os.path.join(raw_data_path, \"ScienceQA\")\n",
    "sciKnowEval_path = os.path.join(raw_data_path, \"SciKnowEval\")"
   ]
  },
  {
   "cell_type": "markdown",
   "id": "673aa773",
   "metadata": {},
   "source": [
    "### 查看并读取sciQA数据"
   ]
  },
  {
   "cell_type": "code",
   "execution_count": 10,
   "id": "f62c49b3",
   "metadata": {},
   "outputs": [],
   "source": [
    "# filepath: /u01/mengpengyu/dataProcess/sciknowevalProcess.ipynb\n",
    "\n",
    "sciQA_path=[]\n",
    "sciQA_path.append(os.path.join(scienceQA_path, \"test-00000-of-00001-f0e719df791966ff.parquet\"))\n",
    "sciQA_path.append(os.path.join(scienceQA_path, \"train-00000-of-00001-1028f23e353fbe3e.parquet\"))\n",
    "sciQA_path.append(os.path.join(scienceQA_path, \"validation-00000-of-00001-6c7328ff6c84284c.parquet\"))\n",
    "\n",
    "all_dfs = []\n",
    "for file_path in sciQA_path:\n",
    "    temp_df = pd.read_parquet(file_path)\n",
    "    all_dfs.append(temp_df)\n",
    "\n",
    "sciQA_data = pd.concat(all_dfs, ignore_index=True)\n"
   ]
  },
  {
   "cell_type": "code",
   "execution_count": 11,
   "id": "3542e2da",
   "metadata": {},
   "outputs": [],
   "source": [
    "\n",
    "image_output_dir = os.path.join(raw_data_path, \"ScienceQA\", \"images\")\n",
    "os.makedirs(image_output_dir, exist_ok=True) # 如果文件夹不存在则创建\n",
    "\n",
    "def save_image(row, id):\n",
    "    if row[\"image\"] is not None and isinstance(row[\"image\"], dict) and \"bytes\" in row[\"image\"]:\n",
    "        image_bytes = row['image']['bytes']\n",
    "        if image_bytes: # 确保字节数据不为空\n",
    "            # 构建图片文件名，可以使用索引 i 或者其他唯一标识符\n",
    "            # 假设图片是 png 格式，如果不是，需要根据实际情况调整扩展名\n",
    "            image_filename = f\"image_{id}.png\"\n",
    "            image_filepath = os.path.join(image_output_dir, image_filename)\n",
    "            \n",
    "            try:\n",
    "                with open(image_filepath, \"wb\") as img_file: # \"wb\" 表示以二进制写入模式打开\n",
    "                    img_file.write(image_bytes)\n",
    "                # print(f\"Saved image to {image_filepath}\")\n",
    "            except Exception as e:\n",
    "                print(f\"Error saving image {image_filepath}: {e}\")"
   ]
  },
  {
   "cell_type": "markdown",
   "id": "e585b6eb",
   "metadata": {},
   "source": [
    "#### 根据一个问题，以及不同的文件类型，构建传给模型的最终prompt"
   ]
  },
  {
   "cell_type": "code",
   "execution_count": 12,
   "id": "223bd79e",
   "metadata": {},
   "outputs": [],
   "source": [
    "\n",
    "\n",
    "def sciQA_build_prompt(row):\n",
    "    question = row[\"question\"]\n",
    "    choices = row[\"choices\"]\n",
    "    prompt=f\"\"\"\n",
    "Review the question and the list of options below.\n",
    "Select the option that best answers the question.\n",
    "Respond with ONLY the 0-based index of your chosen option.\n",
    "Your entire response must be a single integer (e.g., 0 for the first option, 1 for the second, etc.). Do not include any other text or explanations.\n",
    "\n",
    "Question:\n",
    "f{question}\n",
    "\n",
    "Options:\n",
    "f{choices}\n",
    "0-based index:\n",
    "    \"\"\"\n",
    "    return prompt"
   ]
  },
  {
   "cell_type": "code",
   "execution_count": 13,
   "id": "e6e611d3",
   "metadata": {},
   "outputs": [],
   "source": [
    "import hashlib\n",
    "\n",
    "def generate_md5(input_string):\n",
    "    # 创建一个 md5 hash 对象\n",
    "    md5_hash = hashlib.md5()\n",
    "    \n",
    "    # 将输入的字符串转换为字节串（因为 hashlib 需要字节类型的数据）\n",
    "    input_bytes = input_string.encode('utf-8')\n",
    "    \n",
    "    # 更新哈希对象\n",
    "    md5_hash.update(input_bytes)\n",
    "    \n",
    "    # 获取哈希值的十六进制表示\n",
    "    md5_digest = md5_hash.hexdigest()\n",
    "    \n",
    "    return md5_digest\n"
   ]
  },
  {
   "cell_type": "markdown",
   "id": "6cd28430",
   "metadata": {},
   "source": [
    "#### 都是选择题，直接使用规则比对"
   ]
  },
  {
   "cell_type": "code",
   "execution_count": 14,
   "id": "7c89d68d",
   "metadata": {},
   "outputs": [],
   "source": [
    "def sciQA_rule_verifier(question, groundtruth, model_content):\n",
    "    if groundtruth == model_content:\n",
    "        return True\n",
    "    else:\n",
    "        return False"
   ]
  },
  {
   "cell_type": "markdown",
   "id": "a34ecd91",
   "metadata": {},
   "source": [
    "#### 处理sciQA数据：生成generation，调用verifier，整合成符合要求的最终dict格式"
   ]
  },
  {
   "cell_type": "code",
   "execution_count": null,
   "id": "3c05e0ab",
   "metadata": {},
   "outputs": [],
   "source": [
    "import json\n",
    "from concurrent.futures import ThreadPoolExecutor, as_completed\n",
    "from threading import Lock\n",
    "\n",
    "Lock = Lock()\n",
    "\n",
    "\n",
    "def sciKnowEval_process_row(row):\n",
    "    global res_list\n",
    "\n",
    "   \n",
    "    groundtruth = str(row[\"answer\"])\n",
    "\n",
    "    prompt = sciQA_build_prompt(row)\n",
    "    id =generate_md5(prompt)\n",
    "    generations=[]\n",
    "    if row[\"image\"] is not None and isinstance(row[\"image\"], dict) and \"bytes\" in row[\"image\"]:\n",
    "        save_image(row, id)\n",
    "        \n",
    "    elif row[\"image\"] is None :\n",
    "        # If no image, use the model to generate the answer\n",
    "        for i in range(1): # 调用模型的次数，暂定为1\n",
    "            generation={}\n",
    "            generation[\"model\"] = \"DeepSeek-R1\"\n",
    "            reasoning_content, answer_content = call_huoshan(prompt,\"r1\")\n",
    "            answer_content=answer_content.strip()\n",
    "            generation[\"reasoning_content\"] = reasoning_content\n",
    "            generation[\"answer_content\"] = answer_content\n",
    "            # Verify the model content\n",
    "            evaluation={}\n",
    "            correctness = sciQA_rule_verifier(prompt, groundtruth, answer_content)\n",
    "            \n",
    "            evaluation[\"correctness\"] = correctness\n",
    "            evaluation[\"By\"] = \"mengpengyu\"\n",
    "            evaluation[\"Method\"] = \"Rule\"\n",
    "            evaluation[\"extra_tags\"] = []\n",
    "            generation[\"evaluation\"] = evaluation\n",
    "            generations.append(generation)\n",
    "\n",
    "\n",
    "    task_type= \"multiple_choice_single\"\n",
    "    # 删除image字段\n",
    "    row = row.drop(columns=[\"image\"], errors='ignore')\n",
    "    res_dict={}\n",
    "    res_dict[\"id\"] = id\n",
    "    res_dict[\"metadata\"] = row.to_dict()\n",
    "    res_dict[\"source_dataset\"] = \"hicai-zju/SciKnowEval\"\n",
    "    # res_dict[\"subject_info\"] = row[\"domain\"]   #待定，额外对数据进行打标？\n",
    "    res_dict[\"task_type\"] = task_type\n",
    "    res_dict[\"languages\"] = \"en\"\n",
    "    res_dict[\"multimedia\"]= []\n",
    "    res_dict[\"question\"] = prompt\n",
    "    res_dict[\"ground_truth\"] = {\n",
    "            \"final_answer\": groundtruth,\n",
    "            \"unit\": None, \n",
    "            \"solution\": None,\n",
    "            \"extra_tags\": []\n",
    "        }\n",
    "    res_dict[\"generations\"]=generations\n",
    "    if len(generations) == 0:\n",
    "        res_dict[\"solve_rate\"] = None\n",
    "    else:\n",
    "        res_dict[\"solve_rate\"] = sum(1 for gen in generations if gen[\"evaluation\"][\"correctness\"]) / len(generations)\n",
    "    res_dict[\"prompted_for_correct_answer\"]= False\n",
    "    with Lock:\n",
    "        res_list.append(res_dict)\n",
    "    \n"
   ]
  },
  {
   "cell_type": "code",
   "execution_count": null,
   "id": "c6205b91",
   "metadata": {},
   "outputs": [],
   "source": [
    "import traceback\n",
    "res_list = []\n",
    "with ThreadPoolExecutor(max_workers=100) as executor:\n",
    "    counter = 0\n",
    "    futures = {executor.submit(sciKnowEval_process_row, row): index for index, row in sciQA_data.iloc[:100].iterrows()}\n",
    "    for future in as_completed(futures):\n",
    "        index = futures[future]\n",
    "        try:\n",
    "            future.result()  # 获取结果，确保异常被捕获\n",
    "            counter += 1\n",
    "            if counter % 10 == 0:\n",
    "                print(f\"Processed {counter} rows.\")\n",
    "        except Exception as e:\n",
    "            print(f\"Error processing row {index}: {e}\")\n",
    "            traceback.print_exc() \n",
    "# 将结果写入JSON文件\n",
    "output_file = os.path.join(raw_data_path, \"ScienceQA_processed.json\")\n",
    "with open(output_file, \"w\", encoding=\"utf-8\") as f:\n",
    "    json.dump(res_list, f, ensure_ascii=False, indent=4)\n"
   ]
  },
  {
   "cell_type": "code",
   "execution_count": 19,
   "id": "f654d481",
   "metadata": {},
   "outputs": [
    {
     "ename": "TypeError",
     "evalue": "Object of type bytes is not JSON serializable",
     "output_type": "error",
     "traceback": [
      "\u001b[0;31m---------------------------------------------------------------------------\u001b[0m",
      "\u001b[0;31mTypeError\u001b[0m                                 Traceback (most recent call last)",
      "Cell \u001b[0;32mIn[19], line 7\u001b[0m\n\u001b[1;32m      5\u001b[0m output_file \u001b[38;5;241m=\u001b[39m os\u001b[38;5;241m.\u001b[39mpath\u001b[38;5;241m.\u001b[39mjoin(raw_data_path, \u001b[38;5;124m\"\u001b[39m\u001b[38;5;124mScienceQA_processed.json\u001b[39m\u001b[38;5;124m\"\u001b[39m)\n\u001b[1;32m      6\u001b[0m \u001b[38;5;28;01mwith\u001b[39;00m \u001b[38;5;28mopen\u001b[39m(output_file, \u001b[38;5;124m\"\u001b[39m\u001b[38;5;124mw\u001b[39m\u001b[38;5;124m\"\u001b[39m, encoding\u001b[38;5;241m=\u001b[39m\u001b[38;5;124m\"\u001b[39m\u001b[38;5;124mutf-8\u001b[39m\u001b[38;5;124m\"\u001b[39m) \u001b[38;5;28;01mas\u001b[39;00m f:\n\u001b[0;32m----> 7\u001b[0m     \u001b[43mjson\u001b[49m\u001b[38;5;241;43m.\u001b[39;49m\u001b[43mdump\u001b[49m\u001b[43m(\u001b[49m\u001b[43mres_list\u001b[49m\u001b[43m,\u001b[49m\u001b[43m \u001b[49m\u001b[43mf\u001b[49m\u001b[43m,\u001b[49m\u001b[43m \u001b[49m\u001b[43mensure_ascii\u001b[49m\u001b[38;5;241;43m=\u001b[39;49m\u001b[38;5;28;43;01mFalse\u001b[39;49;00m\u001b[43m,\u001b[49m\u001b[43m \u001b[49m\u001b[43mindent\u001b[49m\u001b[38;5;241;43m=\u001b[39;49m\u001b[38;5;241;43m4\u001b[39;49m\u001b[43m)\u001b[49m\n",
      "File \u001b[0;32m~/miniconda3/envs/d2l/lib/python3.10/json/__init__.py:179\u001b[0m, in \u001b[0;36mdump\u001b[0;34m(obj, fp, skipkeys, ensure_ascii, check_circular, allow_nan, cls, indent, separators, default, sort_keys, **kw)\u001b[0m\n\u001b[1;32m    173\u001b[0m     iterable \u001b[38;5;241m=\u001b[39m \u001b[38;5;28mcls\u001b[39m(skipkeys\u001b[38;5;241m=\u001b[39mskipkeys, ensure_ascii\u001b[38;5;241m=\u001b[39mensure_ascii,\n\u001b[1;32m    174\u001b[0m         check_circular\u001b[38;5;241m=\u001b[39mcheck_circular, allow_nan\u001b[38;5;241m=\u001b[39mallow_nan, indent\u001b[38;5;241m=\u001b[39mindent,\n\u001b[1;32m    175\u001b[0m         separators\u001b[38;5;241m=\u001b[39mseparators,\n\u001b[1;32m    176\u001b[0m         default\u001b[38;5;241m=\u001b[39mdefault, sort_keys\u001b[38;5;241m=\u001b[39msort_keys, \u001b[38;5;241m*\u001b[39m\u001b[38;5;241m*\u001b[39mkw)\u001b[38;5;241m.\u001b[39miterencode(obj)\n\u001b[1;32m    177\u001b[0m \u001b[38;5;66;03m# could accelerate with writelines in some versions of Python, at\u001b[39;00m\n\u001b[1;32m    178\u001b[0m \u001b[38;5;66;03m# a debuggability cost\u001b[39;00m\n\u001b[0;32m--> 179\u001b[0m \u001b[38;5;28;01mfor\u001b[39;00m chunk \u001b[38;5;129;01min\u001b[39;00m iterable:\n\u001b[1;32m    180\u001b[0m     fp\u001b[38;5;241m.\u001b[39mwrite(chunk)\n",
      "File \u001b[0;32m~/miniconda3/envs/d2l/lib/python3.10/json/encoder.py:429\u001b[0m, in \u001b[0;36m_make_iterencode.<locals>._iterencode\u001b[0;34m(o, _current_indent_level)\u001b[0m\n\u001b[1;32m    427\u001b[0m     \u001b[38;5;28;01myield\u001b[39;00m _floatstr(o)\n\u001b[1;32m    428\u001b[0m \u001b[38;5;28;01melif\u001b[39;00m \u001b[38;5;28misinstance\u001b[39m(o, (\u001b[38;5;28mlist\u001b[39m, \u001b[38;5;28mtuple\u001b[39m)):\n\u001b[0;32m--> 429\u001b[0m     \u001b[38;5;28;01myield from\u001b[39;00m _iterencode_list(o, _current_indent_level)\n\u001b[1;32m    430\u001b[0m \u001b[38;5;28;01melif\u001b[39;00m \u001b[38;5;28misinstance\u001b[39m(o, \u001b[38;5;28mdict\u001b[39m):\n\u001b[1;32m    431\u001b[0m     \u001b[38;5;28;01myield from\u001b[39;00m _iterencode_dict(o, _current_indent_level)\n",
      "File \u001b[0;32m~/miniconda3/envs/d2l/lib/python3.10/json/encoder.py:325\u001b[0m, in \u001b[0;36m_make_iterencode.<locals>._iterencode_list\u001b[0;34m(lst, _current_indent_level)\u001b[0m\n\u001b[1;32m    323\u001b[0m         \u001b[38;5;28;01melse\u001b[39;00m:\n\u001b[1;32m    324\u001b[0m             chunks \u001b[38;5;241m=\u001b[39m _iterencode(value, _current_indent_level)\n\u001b[0;32m--> 325\u001b[0m         \u001b[38;5;28;01myield from\u001b[39;00m chunks\n\u001b[1;32m    326\u001b[0m \u001b[38;5;28;01mif\u001b[39;00m newline_indent \u001b[38;5;129;01mis\u001b[39;00m \u001b[38;5;129;01mnot\u001b[39;00m \u001b[38;5;28;01mNone\u001b[39;00m:\n\u001b[1;32m    327\u001b[0m     _current_indent_level \u001b[38;5;241m-\u001b[39m\u001b[38;5;241m=\u001b[39m \u001b[38;5;241m1\u001b[39m\n",
      "File \u001b[0;32m~/miniconda3/envs/d2l/lib/python3.10/json/encoder.py:405\u001b[0m, in \u001b[0;36m_make_iterencode.<locals>._iterencode_dict\u001b[0;34m(dct, _current_indent_level)\u001b[0m\n\u001b[1;32m    403\u001b[0m         \u001b[38;5;28;01melse\u001b[39;00m:\n\u001b[1;32m    404\u001b[0m             chunks \u001b[38;5;241m=\u001b[39m _iterencode(value, _current_indent_level)\n\u001b[0;32m--> 405\u001b[0m         \u001b[38;5;28;01myield from\u001b[39;00m chunks\n\u001b[1;32m    406\u001b[0m \u001b[38;5;28;01mif\u001b[39;00m newline_indent \u001b[38;5;129;01mis\u001b[39;00m \u001b[38;5;129;01mnot\u001b[39;00m \u001b[38;5;28;01mNone\u001b[39;00m:\n\u001b[1;32m    407\u001b[0m     _current_indent_level \u001b[38;5;241m-\u001b[39m\u001b[38;5;241m=\u001b[39m \u001b[38;5;241m1\u001b[39m\n",
      "File \u001b[0;32m~/miniconda3/envs/d2l/lib/python3.10/json/encoder.py:405\u001b[0m, in \u001b[0;36m_make_iterencode.<locals>._iterencode_dict\u001b[0;34m(dct, _current_indent_level)\u001b[0m\n\u001b[1;32m    403\u001b[0m         \u001b[38;5;28;01melse\u001b[39;00m:\n\u001b[1;32m    404\u001b[0m             chunks \u001b[38;5;241m=\u001b[39m _iterencode(value, _current_indent_level)\n\u001b[0;32m--> 405\u001b[0m         \u001b[38;5;28;01myield from\u001b[39;00m chunks\n\u001b[1;32m    406\u001b[0m \u001b[38;5;28;01mif\u001b[39;00m newline_indent \u001b[38;5;129;01mis\u001b[39;00m \u001b[38;5;129;01mnot\u001b[39;00m \u001b[38;5;28;01mNone\u001b[39;00m:\n\u001b[1;32m    407\u001b[0m     _current_indent_level \u001b[38;5;241m-\u001b[39m\u001b[38;5;241m=\u001b[39m \u001b[38;5;241m1\u001b[39m\n",
      "File \u001b[0;32m~/miniconda3/envs/d2l/lib/python3.10/json/encoder.py:438\u001b[0m, in \u001b[0;36m_make_iterencode.<locals>._iterencode\u001b[0;34m(o, _current_indent_level)\u001b[0m\n\u001b[1;32m    436\u001b[0m         \u001b[38;5;28;01mraise\u001b[39;00m \u001b[38;5;167;01mValueError\u001b[39;00m(\u001b[38;5;124m\"\u001b[39m\u001b[38;5;124mCircular reference detected\u001b[39m\u001b[38;5;124m\"\u001b[39m)\n\u001b[1;32m    437\u001b[0m     markers[markerid] \u001b[38;5;241m=\u001b[39m o\n\u001b[0;32m--> 438\u001b[0m o \u001b[38;5;241m=\u001b[39m \u001b[43m_default\u001b[49m\u001b[43m(\u001b[49m\u001b[43mo\u001b[49m\u001b[43m)\u001b[49m\n\u001b[1;32m    439\u001b[0m \u001b[38;5;28;01myield from\u001b[39;00m _iterencode(o, _current_indent_level)\n\u001b[1;32m    440\u001b[0m \u001b[38;5;28;01mif\u001b[39;00m markers \u001b[38;5;129;01mis\u001b[39;00m \u001b[38;5;129;01mnot\u001b[39;00m \u001b[38;5;28;01mNone\u001b[39;00m:\n",
      "File \u001b[0;32m~/miniconda3/envs/d2l/lib/python3.10/json/encoder.py:179\u001b[0m, in \u001b[0;36mJSONEncoder.default\u001b[0;34m(self, o)\u001b[0m\n\u001b[1;32m    160\u001b[0m \u001b[38;5;28;01mdef\u001b[39;00m\u001b[38;5;250m \u001b[39m\u001b[38;5;21mdefault\u001b[39m(\u001b[38;5;28mself\u001b[39m, o):\n\u001b[1;32m    161\u001b[0m \u001b[38;5;250m    \u001b[39m\u001b[38;5;124;03m\"\"\"Implement this method in a subclass such that it returns\u001b[39;00m\n\u001b[1;32m    162\u001b[0m \u001b[38;5;124;03m    a serializable object for ``o``, or calls the base implementation\u001b[39;00m\n\u001b[1;32m    163\u001b[0m \u001b[38;5;124;03m    (to raise a ``TypeError``).\u001b[39;00m\n\u001b[0;32m   (...)\u001b[0m\n\u001b[1;32m    177\u001b[0m \n\u001b[1;32m    178\u001b[0m \u001b[38;5;124;03m    \"\"\"\u001b[39;00m\n\u001b[0;32m--> 179\u001b[0m     \u001b[38;5;28;01mraise\u001b[39;00m \u001b[38;5;167;01mTypeError\u001b[39;00m(\u001b[38;5;124mf\u001b[39m\u001b[38;5;124m'\u001b[39m\u001b[38;5;124mObject of type \u001b[39m\u001b[38;5;132;01m{\u001b[39;00mo\u001b[38;5;241m.\u001b[39m\u001b[38;5;18m__class__\u001b[39m\u001b[38;5;241m.\u001b[39m\u001b[38;5;18m__name__\u001b[39m\u001b[38;5;132;01m}\u001b[39;00m\u001b[38;5;124m \u001b[39m\u001b[38;5;124m'\u001b[39m\n\u001b[1;32m    180\u001b[0m                     \u001b[38;5;124mf\u001b[39m\u001b[38;5;124m'\u001b[39m\u001b[38;5;124mis not JSON serializable\u001b[39m\u001b[38;5;124m'\u001b[39m)\n",
      "\u001b[0;31mTypeError\u001b[0m: Object of type bytes is not JSON serializable"
     ]
    }
   ],
   "source": [
    "for i,res in enumerate(res_list):\n",
    "    res_list[i][\"metadata\"]= res_list[i][\"metadata\"].pop(\"image\")\n",
    "    \n",
    "# 将结果写入JSON文件\n",
    "output_file = os.path.join(raw_data_path, \"ScienceQA_processed.json\")\n",
    "with open(output_file, \"w\", encoding=\"utf-8\") as f:\n",
    "    json.dump(res_list, f, ensure_ascii=False, indent=4)"
   ]
  }
 ],
 "metadata": {
  "kernelspec": {
   "display_name": "d2l",
   "language": "python",
   "name": "python3"
  },
  "language_info": {
   "codemirror_mode": {
    "name": "ipython",
    "version": 3
   },
   "file_extension": ".py",
   "mimetype": "text/x-python",
   "name": "python",
   "nbconvert_exporter": "python",
   "pygments_lexer": "ipython3",
   "version": "3.10.16"
  }
 },
 "nbformat": 4,
 "nbformat_minor": 5
}
