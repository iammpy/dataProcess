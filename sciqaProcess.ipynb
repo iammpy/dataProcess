{
 "cells": [
  {
   "cell_type": "markdown",
   "id": "a3e9b805",
   "metadata": {},
   "source": [
    "### 初始化全局变量，导入包"
   ]
  },
  {
   "cell_type": "code",
   "execution_count": 25,
   "id": "610ff416",
   "metadata": {},
   "outputs": [],
   "source": [
    "import os\n",
    "import sys\n",
    "from model import call_huoshan,call_openai\n",
    "import pandas as pd\n",
    "if \"__file__\" in globals():\n",
    "    os.chdir(os.path.dirname(os.path.abspath(__file__)))\n",
    "\n",
    "raw_data_path= os.path.join(\"raw_data\")\n",
    "scienceQA_path = os.path.join(raw_data_path, \"ScienceQA\")\n",
    "sciKnowEval_path = os.path.join(raw_data_path, \"SciKnowEval\")"
   ]
  },
  {
   "cell_type": "markdown",
   "id": "673aa773",
   "metadata": {},
   "source": [
    "### 查看并读取sciQA数据"
   ]
  },
  {
   "cell_type": "code",
   "execution_count": 26,
   "id": "f62c49b3",
   "metadata": {},
   "outputs": [],
   "source": [
    "# filepath: /u01/mengpengyu/dataProcess/sciknowevalProcess.ipynb\n",
    "\n",
    "sciQA_path=[]\n",
    "sciQA_path.append(os.path.join(scienceQA_path, \"test-00000-of-00001-f0e719df791966ff.parquet\"))\n",
    "sciQA_path.append(os.path.join(scienceQA_path, \"train-00000-of-00001-1028f23e353fbe3e.parquet\"))\n",
    "sciQA_path.append(os.path.join(scienceQA_path, \"validation-00000-of-00001-6c7328ff6c84284c.parquet\"))\n",
    "\n",
    "all_dfs = []\n",
    "for file_path in sciQA_path:\n",
    "    temp_df = pd.read_parquet(file_path)\n",
    "    all_dfs.append(temp_df)\n",
    "\n",
    "sciQA_data = pd.concat(all_dfs, ignore_index=True)\n"
   ]
  },
  {
   "cell_type": "code",
   "execution_count": 27,
   "id": "3542e2da",
   "metadata": {},
   "outputs": [],
   "source": [
    "\n",
    "image_output_dir = os.path.join(raw_data_path, \"ScienceQA\", \"images\")\n",
    "os.makedirs(image_output_dir, exist_ok=True) # 如果文件夹不存在则创建\n",
    "\n",
    "def save_image(row, id):\n",
    "    if row[\"image\"] is not None and isinstance(row[\"image\"], dict) and \"bytes\" in row[\"image\"]:\n",
    "        image_bytes = row['image']['bytes']\n",
    "        if image_bytes: # 确保字节数据不为空\n",
    "            # 构建图片文件名，可以使用索引 i 或者其他唯一标识符\n",
    "            # 假设图片是 png 格式，如果不是，需要根据实际情况调整扩展名\n",
    "            image_filename = f\"image_{id}.png\"\n",
    "            image_filepath = os.path.join(image_output_dir, image_filename)\n",
    "            \n",
    "            try:\n",
    "                with open(image_filepath, \"wb\") as img_file: # \"wb\" 表示以二进制写入模式打开\n",
    "                    img_file.write(image_bytes)\n",
    "                # print(f\"Saved image to {image_filepath}\")\n",
    "            except Exception as e:\n",
    "                print(f\"Error saving image {image_filepath}: {e}\")"
   ]
  },
  {
   "cell_type": "markdown",
   "id": "e585b6eb",
   "metadata": {},
   "source": [
    "#### 根据一个问题，以及不同的文件类型，构建传给模型的最终prompt"
   ]
  },
  {
   "cell_type": "code",
   "execution_count": 28,
   "id": "223bd79e",
   "metadata": {},
   "outputs": [],
   "source": [
    "\n",
    "\n",
    "def sciQA_build_prompt(row):\n",
    "    question = row[\"question\"]\n",
    "    choices = row[\"choices\"]\n",
    "    prompt=f\"\"\"\n",
    "Review the question and the list of options below.\n",
    "Select the option that best answers the question.\n",
    "Respond with ONLY the 0-based index of your chosen option.\n",
    "Your entire response must be a single integer (e.g., 0 for the first option, 1 for the second, etc.). Do not include any other text or explanations.\n",
    "\n",
    "Question:\n",
    "f{question}\n",
    "\n",
    "Options:\n",
    "f{choices}\n",
    "0-based index:\n",
    "    \"\"\"\n",
    "    return prompt"
   ]
  },
  {
   "cell_type": "code",
   "execution_count": 29,
   "id": "e6e611d3",
   "metadata": {},
   "outputs": [],
   "source": [
    "import hashlib\n",
    "\n",
    "def generate_md5(input_string):\n",
    "    # 创建一个 md5 hash 对象\n",
    "    md5_hash = hashlib.md5()\n",
    "    \n",
    "    # 将输入的字符串转换为字节串（因为 hashlib 需要字节类型的数据）\n",
    "    input_bytes = input_string.encode('utf-8')\n",
    "    \n",
    "    # 更新哈希对象\n",
    "    md5_hash.update(input_bytes)\n",
    "    \n",
    "    # 获取哈希值的十六进制表示\n",
    "    md5_digest = md5_hash.hexdigest()\n",
    "    \n",
    "    return md5_digest\n"
   ]
  },
  {
   "cell_type": "markdown",
   "id": "6cd28430",
   "metadata": {},
   "source": [
    "#### 都是选择题，直接使用规则比对"
   ]
  },
  {
   "cell_type": "code",
   "execution_count": 30,
   "id": "7c89d68d",
   "metadata": {},
   "outputs": [],
   "source": [
    "def sciQA_rule_verifier(question, groundtruth, model_content):\n",
    "    if groundtruth == model_content:\n",
    "        return True\n",
    "    else:\n",
    "        return False"
   ]
  },
  {
   "cell_type": "markdown",
   "id": "a34ecd91",
   "metadata": {},
   "source": [
    "#### 处理sciQA数据：生成generation，调用verifier，整合成符合要求的最终dict格式"
   ]
  },
  {
   "cell_type": "code",
   "execution_count": 31,
   "id": "3c05e0ab",
   "metadata": {},
   "outputs": [],
   "source": [
    "import json\n",
    "from concurrent.futures import ThreadPoolExecutor, as_completed\n",
    "from threading import Lock\n",
    "import numpy as np\n",
    "Lock = Lock()\n",
    "\n",
    "\n",
    "def sciKnowEval_process_row(row):\n",
    "    global res_list\n",
    "\n",
    "   \n",
    "    groundtruth = str(row[\"answer\"])\n",
    "\n",
    "    prompt = sciQA_build_prompt(row)\n",
    "    id =generate_md5(prompt)\n",
    "    generations=[]\n",
    "    if row[\"image\"] is not None and isinstance(row[\"image\"], dict) and \"bytes\" in row[\"image\"]:\n",
    "        save_image(row, id)\n",
    "        \n",
    "    elif row[\"image\"] is None :\n",
    "        # If no image, use the model to generate the answer\n",
    "        for i in range(1): # 调用模型的次数，暂定为1\n",
    "            generation={}\n",
    "            generation[\"model\"] = \"DeepSeek-R1\"\n",
    "            reasoning_content, answer_content = call_huoshan(prompt,\"r1\")\n",
    "            answer_content=answer_content.strip()\n",
    "            generation[\"reasoning_content\"] = reasoning_content\n",
    "            generation[\"answer_content\"] = answer_content\n",
    "            # Verify the model content\n",
    "            evaluation={}\n",
    "            correctness = sciQA_rule_verifier(prompt, groundtruth, answer_content)\n",
    "            \n",
    "            evaluation[\"correctness\"] = correctness\n",
    "            evaluation[\"By\"] = \"mengpengyu\"\n",
    "            evaluation[\"Method\"] = \"Rule\"\n",
    "            evaluation[\"extra_tags\"] = []\n",
    "            generation[\"evaluation\"] = evaluation\n",
    "            generations.append(generation)\n",
    "\n",
    "\n",
    "    task_type= \"multiple_choice_single\"\n",
    "    # 删除image字段\n",
    "    if row[\"image\"] is not None:\n",
    "        row[\"image\"]=f\"image_{id}.png\"  # 将图片字段替换为图片文件名\n",
    "    cleaned_metadata = {}\n",
    "    for key, value in row.items():\n",
    "        if isinstance(value, np.ndarray):\n",
    "            cleaned_metadata[key] = value.tolist()  # 将 ndarray 转换为 list\n",
    "        elif isinstance(value, np.generic): # 处理 NumPy 标量类型如 np.int64, np.float64\n",
    "            cleaned_metadata[key] = value.item()\n",
    "        else:\n",
    "            cleaned_metadata[key] = value\n",
    "    res_dict={}\n",
    "    res_dict[\"id\"] = id\n",
    "    res_dict[\"metadata\"] = cleaned_metadata\n",
    "    res_dict[\"source_dataset\"] = \"hicai-zju/SciKnowEval\"\n",
    "    # res_dict[\"subject_info\"] = row[\"domain\"]   #待定，额外对数据进行打标？\n",
    "    res_dict[\"task_type\"] = task_type\n",
    "    res_dict[\"languages\"] = \"en\"\n",
    "    if row[\"image\"] is not None:\n",
    "        res_dict[\"multimedia\"]= [{\n",
    "            \"type\": \"image\",\n",
    "            \"content\": f\"ScienceQA/images/{row['image']}\"\n",
    "        }]\n",
    "    res_dict[\"question\"] = prompt\n",
    "    res_dict[\"ground_truth\"] = {\n",
    "            \"final_answer\": groundtruth,\n",
    "            \"unit\": None, \n",
    "            \"solution\": None,\n",
    "            \"extra_tags\": []\n",
    "        }\n",
    "    res_dict[\"generations\"]=generations\n",
    "    if len(generations) == 0:\n",
    "        res_dict[\"solve_rate\"] = None\n",
    "    else:\n",
    "        res_dict[\"solve_rate\"] = sum(1 for gen in generations if gen[\"evaluation\"][\"correctness\"]) / len(generations)\n",
    "    res_dict[\"prompted_for_correct_answer\"]= False\n",
    "    with Lock:\n",
    "        res_list.append(res_dict)\n",
    "    \n"
   ]
  },
  {
   "cell_type": "code",
   "execution_count": 33,
   "id": "c6205b91",
   "metadata": {},
   "outputs": [
    {
     "name": "stdout",
     "output_type": "stream",
     "text": [
      "Processed 10 rows.\n",
      "Processed 20 rows.\n",
      "Processed 30 rows.\n",
      "Processed 40 rows.\n",
      "Processed 50 rows.\n"
     ]
    }
   ],
   "source": [
    "import traceback\n",
    "res_list = []\n",
    "with ThreadPoolExecutor(max_workers=100) as executor:\n",
    "    counter = 0\n",
    "    futures = {executor.submit(sciKnowEval_process_row, row): index for index, row in sciQA_data.iloc[:50].iterrows()}\n",
    "    for future in as_completed(futures):\n",
    "        index = futures[future]\n",
    "        try:\n",
    "            future.result()  # 获取结果，确保异常被捕获\n",
    "            counter += 1\n",
    "            if counter % 10 == 0:\n",
    "                print(f\"Processed {counter} rows.\")\n",
    "        except Exception as e:\n",
    "            print(f\"Error processing row {index}: {e}\")\n",
    "            traceback.print_exc() \n",
    "# 将结果写入JSON文件\n",
    "output_file = os.path.join(raw_data_path, \"ScienceQA_processed.json\")\n",
    "with open(output_file, \"w\", encoding=\"utf-8\") as f:\n",
    "    json.dump(res_list, f, ensure_ascii=False, indent=4)\n"
   ]
  }
 ],
 "metadata": {
  "kernelspec": {
   "display_name": "d2l",
   "language": "python",
   "name": "python3"
  },
  "language_info": {
   "codemirror_mode": {
    "name": "ipython",
    "version": 3
   },
   "file_extension": ".py",
   "mimetype": "text/x-python",
   "name": "python",
   "nbconvert_exporter": "python",
   "pygments_lexer": "ipython3",
   "version": "3.10.16"
  }
 },
 "nbformat": 4,
 "nbformat_minor": 5
}
